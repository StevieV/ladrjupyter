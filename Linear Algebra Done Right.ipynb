{
 "cells": [
  {
   "cell_type": "markdown",
   "id": "9d5be84e",
   "metadata": {},
   "source": [
    "### 3E.1.C.1\n",
    "For each of the following subsets of $\\mathbb{F}^3$, determine whether it is a subspace of $\\mathbb{F}^3$:\n",
    "\n",
    "(a) $\\{(x_1, x_2, x_3)\\in\\mathbb{F}^3: x_1 + 2x_2 + 3x_3 = 0\\}$\n",
    "\n",
    "(b) $\\{(x_1, x_2, x_3)\\in\\mathbb{F}^3: x_1 + 2x_2 + 3x_3 = 4\\}$\n",
    "\n",
    "(c) $\\{(x_1, x_2, x_3)\\in\\mathbb{F}^3: x_1x_2x_3 = 0\\}$\n",
    "\n",
    "(c) $\\{(x_1, x_2, x_3)\\in\\mathbb{F}^3: x_1 = 5x_3\\}$"
   ]
  },
  {
   "cell_type": "markdown",
   "id": "d3b21e25",
   "metadata": {},
   "source": [
    "### 3E.1.C.23.\n",
    "Prove or give a counter example: if $U_1, U_2, W$ are subspaces of $V$ such that\n",
    "\n",
    "$$V = U_1 \\oplus W \\text{ and } V = U_2 + \\oplus  W$$\n",
    "\n",
    "then $U_1 = U_2$."
   ]
  },
  {
   "cell_type": "markdown",
   "id": "e02a67a6",
   "metadata": {},
   "source": [
    "### 2E.1.1\n",
    "Prove that if $(v_1,...,v_2)$ spans $V$, then so does the list\n",
    "\n",
    "$$(v_1-v_2,v_2-v_3,...,v_{n-1}-v_n,v_n)$$\n",
    "\n",
    "obtained by subtracting from each vector (except the last one) the following vector."
   ]
  },
  {
   "cell_type": "markdown",
   "id": "f240cc90",
   "metadata": {},
   "source": [
    "### 3E.2.A.1.\n",
    "Suppose $v_1, v_2, v_3, v_4 $ spans $V$. Prove that the list\n",
    "\n",
    "$$v_1-v_2,v_2-v_3,v_3-v_4,v_4$$\n",
    "\n",
    "also spans $V$."
   ]
  },
  {
   "cell_type": "markdown",
   "id": "785a5759",
   "metadata": {},
   "source": [
    "### 3E.2.A.10.\n",
    "Suppose $v1,...,vm$ is linearly independent in $V$ and $w \\in V$. Prove that if $v_1 + w,...,v_m + w$ is linearly dependent, then $w \\in span(v_1,...,v_m)$."
   ]
  }
 ],
 "metadata": {
  "kernelspec": {
   "display_name": "Python 3 (ipykernel)",
   "language": "python",
   "name": "python3"
  },
  "language_info": {
   "codemirror_mode": {
    "name": "ipython",
    "version": 3
   },
   "file_extension": ".py",
   "mimetype": "text/x-python",
   "name": "python",
   "nbconvert_exporter": "python",
   "pygments_lexer": "ipython3",
   "version": "3.10.9"
  }
 },
 "nbformat": 4,
 "nbformat_minor": 5
}
